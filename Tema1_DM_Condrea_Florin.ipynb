{
  "nbformat": 4,
  "nbformat_minor": 0,
  "metadata": {
    "colab": {
      "name": "Tema1 DM.ipynb",
      "version": "0.3.2",
      "provenance": [],
      "collapsed_sections": []
    },
    "kernelspec": {
      "name": "python3",
      "display_name": "Python 3"
    }
  },
  "cells": [
    {
      "metadata": {
        "id": "iVGSivVQShVE",
        "colab_type": "code",
        "outputId": "fa372872-2f9d-4a5f-9c20-9d7b95ae0cbe",
        "colab": {
          "resources": {
            "http://localhost:8080/nbextensions/google.colab/files.js": {
              "data": "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",
              "ok": true,
              "headers": [
                [
                  "content-type",
                  "application/javascript"
                ]
              ],
              "status": 200,
              "status_text": ""
            }
          },
          "base_uri": "https://localhost:8080/",
          "height": 73
        }
      },
      "cell_type": "code",
      "source": [
        "from google.colab import files\n",
        "\n",
        "uploaded = files.upload()"
      ],
      "execution_count": 0,
      "outputs": [
        {
          "output_type": "display_data",
          "data": {
            "text/html": [
              "\n",
              "     <input type=\"file\" id=\"files-63da44e7-a854-4d96-9db9-5d487cc4e691\" name=\"files[]\" multiple disabled />\n",
              "     <output id=\"result-63da44e7-a854-4d96-9db9-5d487cc4e691\">\n",
              "      Upload widget is only available when the cell has been executed in the\n",
              "      current browser session. Please rerun this cell to enable.\n",
              "      </output>\n",
              "      <script src=\"/nbextensions/google.colab/files.js\"></script> "
            ],
            "text/plain": [
              "<IPython.core.display.HTML object>"
            ]
          },
          "metadata": {
            "tags": []
          }
        },
        {
          "output_type": "stream",
          "text": [
            "Saving Condrea_A_Florin_train.csv to Condrea_A_Florin_train.csv\n"
          ],
          "name": "stdout"
        }
      ]
    },
    {
      "metadata": {
        "id": "2LW7sZI4mHIV",
        "colab_type": "text"
      },
      "cell_type": "markdown",
      "source": [
        "1. Download Data\n",
        "2. Visualize data\n",
        "3. Preprocess Data \n",
        "4. Create predictor for missing weights\n",
        "5. Train predictor with predicted weights, without weights, without weight-less entries"
      ]
    },
    {
      "metadata": {
        "id": "XSrL9mI_S2UX",
        "colab_type": "code",
        "colab": {}
      },
      "cell_type": "code",
      "source": [
        "import pandas as pd\n",
        "for i in uploaded:\n",
        "  Info = pd.read_csv(i)\n"
      ],
      "execution_count": 0,
      "outputs": []
    },
    {
      "metadata": {
        "id": "OWW429khTIpT",
        "colab_type": "code",
        "outputId": "293915f1-d183-42f3-d233-229a6b7309fb",
        "colab": {
          "base_uri": "https://localhost:8080/",
          "height": 2141
        }
      },
      "cell_type": "code",
      "source": [
        "# Discarding Owner Name,being not relevant\n",
        "# Turning \n",
        "\n",
        "Info = Info[[\"Weight(g)\",\"Height(cm)\",\"Energy level\",\"Attention Needs\", \"Coat Lenght\",\"Sex\",\"Breed Name\",\"Longevity(yrs)\"]]  \n",
        "print(Info)"
      ],
      "execution_count": 0,
      "outputs": [
        {
          "output_type": "stream",
          "text": [
            "      Weight(g)  Height(cm) Energy level Attention Needs Coat Lenght     Sex  \\\n",
            "0     7801.1483     21.1423         high             med       short  female   \n",
            "1    43887.1576     63.5193          med            high       short  female   \n",
            "2    10356.6510         NaN         high             med       short  female   \n",
            "3    17832.2871     52.1902          med             med         med    male   \n",
            "4    45539.3608     60.6652          med            high       short  female   \n",
            "5     7321.9461     21.1201         high             med       short  female   \n",
            "6    20640.1181         NaN          med             med         med    male   \n",
            "7    20529.5942     48.0000         high            high       short  female   \n",
            "8     8485.7079         NaN         high             low       short    male   \n",
            "9    22062.8285         NaN         high            high       short  female   \n",
            "10   47194.2458     64.3130          med            high       short    male   \n",
            "11    6544.7142     20.8684         high             med       short  female   \n",
            "12   38662.2534     61.1727         high            high         med  female   \n",
            "13   43030.1724     62.3603          med            high       short  female   \n",
            "14   21492.4482         NaN          med            high         med    male   \n",
            "15   41728.9268     63.1286          low            high       short  female   \n",
            "16   20116.8618     48.0000         high            high         med  female   \n",
            "17   42514.4389     65.0855          med             med       short  female   \n",
            "18   25341.8120         NaN         high            high       short  female   \n",
            "19    9138.3088         NaN         high             low       short  female   \n",
            "20   19732.5914     48.0000         high            high       short    male   \n",
            "21   20288.9733     54.9608          med             med         med  female   \n",
            "22   26690.6252     48.0000         high            high       short  female   \n",
            "23   38360.1572         NaN          med            high       short    male   \n",
            "24   16774.9784     54.4813         high             med         med  female   \n",
            "25   17289.0535     54.3795         high             med         med  female   \n",
            "26   18267.4268         NaN          low             med         med    male   \n",
            "27   24747.0419     48.0000         high            high       short  female   \n",
            "28   23245.1418     57.7343          low             med        long    male   \n",
            "29    5309.1497     20.6843          med             med         med    male   \n",
            "..          ...         ...          ...             ...         ...     ...   \n",
            "970  16699.7963     52.3919          med             med         med    male   \n",
            "971  44835.6975         NaN          med            high         med  female   \n",
            "972  37307.1019     64.5489          med            high       short  female   \n",
            "973  11680.9460     20.8675         high             med       short    male   \n",
            "974  21180.0859     57.5594          low             med         med    male   \n",
            "975  22704.7274         NaN         high            high       short    male   \n",
            "976  15178.5470     54.7683          med             med       short  female   \n",
            "977   5495.4329     20.7691         high             med       short  female   \n",
            "978  16916.6454     56.7768          low             med         med  female   \n",
            "979  20829.7776     55.8606          med             med       short    male   \n",
            "980  24867.0120     48.0000         high            high       short  female   \n",
            "981  20648.5087     56.7040          med             med         med  female   \n",
            "982  22981.6792     48.0000         high            high       short    male   \n",
            "983  16454.3723         NaN          med             low         med  female   \n",
            "984  44997.3043         NaN          med            high       short    male   \n",
            "985  21236.4778     56.3885          med             med         med    male   \n",
            "986   6865.0290     22.1434         high             med       short    male   \n",
            "987  25450.0168         NaN         high            high       short  female   \n",
            "988  23891.4157     48.0000         high            high         med    male   \n",
            "989  16837.7049     51.8706         high             med         med    male   \n",
            "990   8269.6430     19.9061         high             med       short  female   \n",
            "991   9910.0188     20.7651         high             med       short    male   \n",
            "992  22337.9616     48.0000         high            high       short  female   \n",
            "993   9953.5968         NaN         high             med         med    male   \n",
            "994  20611.4293     54.7819          med             med         med    male   \n",
            "995  11967.6733         NaN         high             med       short  female   \n",
            "996  22250.7534         NaN         high             med       short  female   \n",
            "997  21092.3248     50.5857          med             med         med    male   \n",
            "998  45095.3783         NaN          med            high         med    male   \n",
            "999  18478.1236     51.8278         high             med         med    male   \n",
            "\n",
            "         Breed Name  Longevity(yrs)  \n",
            "0         Daschhund         12.0064  \n",
            "1        Bloodhound          7.9969  \n",
            "2         Daschhund         13.5805  \n",
            "3    Siberian Husky         11.7706  \n",
            "4        Bloodhound          7.8684  \n",
            "5         Daschhund         11.8991  \n",
            "6    Siberian Husky         10.8668  \n",
            "7         Dalmatian         14.5285  \n",
            "8         Daschhund         12.5970  \n",
            "9         Dalmatian         13.8133  \n",
            "10       Bloodhound          8.1775  \n",
            "11        Daschhund         13.4622  \n",
            "12       Bloodhound          8.0804  \n",
            "13       Bloodhound          6.2438  \n",
            "14   Siberian Husky         12.6719  \n",
            "15       Bloodhound          8.5685  \n",
            "16        Dalmatian         12.8510  \n",
            "17       Bloodhound          8.4076  \n",
            "18        Dalmatian         13.6707  \n",
            "19        Daschhund         13.5679  \n",
            "20        Dalmatian         13.7773  \n",
            "21   Siberian Husky         12.4823  \n",
            "22        Dalmatian         12.5062  \n",
            "23       Bloodhound          7.0794  \n",
            "24   Siberian Husky         12.8202  \n",
            "25   Siberian Husky         12.6688  \n",
            "26   Siberian Husky         12.2638  \n",
            "27        Dalmatian         13.1855  \n",
            "28   Siberian Husky         12.3876  \n",
            "29        Daschhund         13.3855  \n",
            "..              ...             ...  \n",
            "970  Siberian Husky         11.7388  \n",
            "971      Bloodhound          8.3621  \n",
            "972      Bloodhound          9.0123  \n",
            "973       Daschhund         12.3653  \n",
            "974  Siberian Husky         11.3980  \n",
            "975       Dalmatian         13.9412  \n",
            "976  Siberian Husky         12.3606  \n",
            "977       Daschhund         12.8882  \n",
            "978  Siberian Husky         12.8158  \n",
            "979  Siberian Husky         11.9874  \n",
            "980       Dalmatian         12.4023  \n",
            "981  Siberian Husky         12.6086  \n",
            "982       Dalmatian         13.3454  \n",
            "983  Siberian Husky         11.0169  \n",
            "984      Bloodhound          8.6396  \n",
            "985  Siberian Husky         11.9928  \n",
            "986       Daschhund         12.4745  \n",
            "987       Dalmatian         12.8599  \n",
            "988       Dalmatian         12.7540  \n",
            "989  Siberian Husky         11.6983  \n",
            "990       Daschhund         12.9394  \n",
            "991       Daschhund         13.8328  \n",
            "992       Dalmatian         12.6348  \n",
            "993       Daschhund         13.6533  \n",
            "994  Siberian Husky         12.9297  \n",
            "995       Daschhund         12.9181  \n",
            "996       Dalmatian         13.0090  \n",
            "997  Siberian Husky         12.0492  \n",
            "998      Bloodhound          8.0858  \n",
            "999  Siberian Husky         12.3197  \n",
            "\n",
            "[1000 rows x 8 columns]\n"
          ],
          "name": "stdout"
        }
      ]
    },
    {
      "metadata": {
        "id": "vFeLndkJth5b",
        "colab_type": "text"
      },
      "cell_type": "markdown",
      "source": [
        "We will create a predictor in order to estimate the missing heights and later test if using predicted values lead to better results."
      ]
    },
    {
      "metadata": {
        "id": "QW_0dTR4rhIc",
        "colab_type": "code",
        "outputId": "7e2edd1a-c042-4cc6-c217-f33705dc5eca",
        "colab": {
          "base_uri": "https://localhost:8080/",
          "height": 451
        }
      },
      "cell_type": "code",
      "source": [
        "from sklearn.linear_model import LinearRegression\n",
        "from sklearn.model_selection import train_test_split\n",
        "from sklearn import preprocessing\n",
        "import matplotlib.pyplot as plt\n",
        "# Split data between null and not null heights\n",
        "# Normalizing data\n",
        "null_info = Info[Info.isnull().any(axis=1)]\n",
        "\n",
        "# null_info = pd.get_dummies(null_info)\n",
        "# null_info[\"Weight(g)\"] = preprocessing.normalize([null_info[\"Weight(g)\"]]).reshape(-1)\n",
        "# null_info[\"Longevity(yrs)\"] = preprocessing.normalize([null_info[\"Longevity(yrs)\"]]).reshape(-1)\n",
        "# Normalizing data\n",
        "not_null_info = Info[Info.notnull().all(axis=1)]\n",
        "# not_null_info = pd.get_dummies(not_null_info)\n",
        "# not_null_info[\"Weight(g)\"] = preprocessing.normalize([not_null_info[\"Weight(g)\"]]).reshape(-1)\n",
        "# not_null_info[\"Longevity(yrs)\"] = preprocessing.normalize([not_null_info[\"Longevity(yrs)\"]]).reshape(-1)\n",
        "# Setting up data\n",
        "X = not_null_info\n",
        "Y = X[[\"Height(cm)\"]]\n",
        "X = X.drop([\"Height(cm)\"],axis=1)\n",
        "# one hot data, bringing test score from 0.85 to 0.99\n",
        "X = pd.get_dummies(X)\n",
        "X[\"Weight(g)\"] = preprocessing.normalize([X[\"Weight(g)\"]]).reshape(-1)\n",
        "X[\"Longevity(yrs)\"] = preprocessing.normalize([X[\"Longevity(yrs)\"]]).reshape(-1)\n",
        "\n",
        "# build model\n",
        "X_train, X_test, y_train, y_test = train_test_split(X, Y, test_size=0.33, random_state=42)\n",
        "reg = LinearRegression().fit(X_train, y_train)\n",
        "print(reg.score(X_test,y_test))\n",
        "# Model has a score of 99.13, indicating that it would be a solution for the missing data\n",
        "\n",
        "X_to_predict = null_info.drop([\"Height(cm)\"],axis=1)\n",
        "X_to_predict = pd.get_dummies(X_to_predict)\n",
        "X_to_predict[\"Weight(g)\"] = preprocessing.normalize([X_to_predict[\"Weight(g)\"]]).reshape(-1)\n",
        "X_to_predict[\"Longevity(yrs)\"] = preprocessing.normalize([X_to_predict[\"Longevity(yrs)\"]]).reshape(-1)\n",
        "\n",
        "\n",
        "\n",
        "\n",
        "pred = reg.predict(X_to_predict).reshape(-1)\n",
        "\n",
        "null_info[\"Height(cm)\"] = pred\n",
        "\n",
        "info_with_pred = pd.concat([null_info, not_null_info],ignore_index=True)\n",
        "info_without_nulls = not_null_info\n",
        "info_without_Heights = null_info.drop(\"Height(cm)\",axis=1)\n",
        "\n",
        "\n",
        "# Further data extracting through data whitening didn't result features less corelated\n",
        "\n",
        "a = preprocessing.normalize([info_with_pred[\"Weight(g)\"]]).reshape(-1)\n",
        "b = preprocessing.normalize([info_with_pred[\"Height(cm)\"]]).reshape(-1)\n",
        "plt.plot(a,'r')\n",
        "plt.plot(b,'b')\n",
        "plt.plot((a-b)/2,'y')\n",
        "plt.plot((a+b)/2,'c')\n",
        "\n",
        "plt.axis([0, 207, -0.1, 0.1])\n",
        "plt.show()"
      ],
      "execution_count": 0,
      "outputs": [
        {
          "output_type": "stream",
          "text": [
            "0.9913292300513898\n"
          ],
          "name": "stdout"
        },
        {
          "output_type": "stream",
          "text": [
            "/usr/local/lib/python3.6/dist-packages/ipykernel_launcher.py:42: SettingWithCopyWarning: \n",
            "A value is trying to be set on a copy of a slice from a DataFrame.\n",
            "Try using .loc[row_indexer,col_indexer] = value instead\n",
            "\n",
            "See the caveats in the documentation: http://pandas.pydata.org/pandas-docs/stable/indexing.html#indexing-view-versus-copy\n"
          ],
          "name": "stderr"
        },
        {
          "output_type": "display_data",
          "data": {
            "image/png": "[encoded data removed]",
            "text/plain": [
              "<matplotlib.figure.Figure at 0x7f1a679093c8>"
            ]
          },
          "metadata": {
            "tags": []
          }
        }
      ]
    },
    {
      "metadata": {
        "id": "SOmN7-Qs3k40",
        "colab_type": "text"
      },
      "cell_type": "markdown",
      "source": [
        "Visualize data. It can be obverved that height and weight are corelated, but at the same time form clusters. Simple data withening proved inefficient.\n",
        "\n",
        "In the diagram bellow it can be observed that the 4 classes are liniary separable.\n"
      ]
    },
    {
      "metadata": {
        "id": "fwl_VjvleLKc",
        "colab_type": "code",
        "outputId": "031e1abc-f947-45dd-8dea-cc3153f5c88f",
        "colab": {
          "base_uri": "https://localhost:8080/",
          "height": 347
        }
      },
      "cell_type": "code",
      "source": [
        "import matplotlib.pyplot as plt\n",
        "\n",
        "info_with_pred_aux = info_with_pred.copy()\n",
        "info_with_pred_aux[\"Height(cm)\"] = preprocessing.normalize([info_with_pred[\"Height(cm)\"]]).reshape(-1)\n",
        "info_with_pred_aux[\"Weight(g)\"]  = preprocessing.normalize([info_with_pred[\"Weight(g)\"]]).reshape(-1)\n",
        "\n",
        "dim1 = [info_with_pred_aux[info_with_pred_aux[\"Breed Name\"]==\"Siberian Husky\"][\"Height(cm)\"]]\n",
        "dim2 = [info_with_pred_aux[info_with_pred_aux[\"Breed Name\"]==\"Siberian Husky\"][\"Weight(g)\"]]\n",
        "plt.plot(dim1,dim2, 'ro')\n",
        "\n",
        "dim1 = [info_with_pred_aux[info_with_pred_aux[\"Breed Name\"]==\"Dalmatian\"][\"Height(cm)\"]]\n",
        "dim2 = [info_with_pred_aux[info_with_pred_aux[\"Breed Name\"]==\"Dalmatian\"][\"Weight(g)\"]]\n",
        "plt.plot(dim1,dim2, 'go')\n",
        "\n",
        "dim1 = [info_with_pred_aux[info_with_pred_aux[\"Breed Name\"]==\"Bloodhound\"][\"Height(cm)\"]]\n",
        "dim2 = [info_with_pred_aux[info_with_pred_aux[\"Breed Name\"]==\"Bloodhound\"][\"Weight(g)\"]]\n",
        "plt.plot(dim1,dim2, 'bo')\n",
        "\n",
        "dim1 = [info_with_pred_aux[info_with_pred_aux[\"Breed Name\"]==\"Daschhund\"][\"Height(cm)\"]]\n",
        "dim2 = [info_with_pred_aux[info_with_pred_aux[\"Breed Name\"]==\"Daschhund\"][\"Weight(g)\"]]\n",
        "plt.plot(dim1,dim2, 'yo')\n",
        "\n",
        "plt.axis([0, 0.05, 0, 0.15])\n",
        "plt.show()"
      ],
      "execution_count": 0,
      "outputs": [
        {
          "output_type": "display_data",
          "data": {
            "image/png": "[encoded data removed]",
            "text/plain": [
              "<matplotlib.figure.Figure at 0x7f68bf4becc0>"
            ]
          },
          "metadata": {
            "tags": []
          }
        }
      ]
    },
    {
      "metadata": {
        "id": "oIIDxmBBVIq5",
        "colab_type": "text"
      },
      "cell_type": "markdown",
      "source": [
        "Testing all 3 datasets generated from the given data."
      ]
    },
    {
      "metadata": {
        "id": "IfROVLatOSPn",
        "colab_type": "code",
        "outputId": "859c2413-68e3-4875-aee2-1af6f74158b6",
        "colab": {
          "base_uri": "https://localhost:8080/",
          "height": 920
        }
      },
      "cell_type": "code",
      "source": [
        "# Classifier for info_without_nulls\n",
        "from sklearn.linear_model import LogisticRegression\n",
        "from sklearn.ensemble import RandomForestClassifier\n",
        "from sklearn.neighbors import KNeighborsClassifier\n",
        "from sklearn.model_selection import GridSearchCV\n",
        "X = pd.get_dummies(info_without_nulls.drop(['Breed Name','Longevity(yrs)'],axis=1))\n",
        "Y = info_without_nulls['Breed Name']\n",
        "\n",
        "LogReg = LogisticRegression()\n",
        "LogReg_param = {}\n",
        "LogReg_clf = GridSearchCV(LogReg, LogReg_param,cv=3,return_train_score=True)\n",
        "LogReg_clf.fit(X, Y)\n",
        "result_LogReg = LogReg_clf.cv_results_\n",
        "for i in result_LogReg:\n",
        "  print(str(i)+\" \"+str(result_LogReg[i]))\n",
        "  \n",
        "print(\"---------------------------------------------------\")\n",
        "RandomForest = RandomForestClassifier()\n",
        "RandomForest_param = {'n_estimators':[10,50,100,200]}\n",
        "RandomForest_clf = GridSearchCV(RandomForest, RandomForest_param,cv=3,return_train_score=True)\n",
        "RandomForest_clf.fit(X, Y)\n",
        "result_RandomForest = RandomForest_clf.cv_results_\n",
        "for i in result_RandomForest:\n",
        "  print(str(i)+\" \"+str(result_RandomForest[i]))\n",
        "  \n",
        "print(\"---------------------------------------------------\")\n",
        "KNN = KNeighborsClassifier()\n",
        "KNN_param = {'n_neighbors':[1,2,3,4,5,7]}\n",
        "KNN_clf = GridSearchCV(KNN, KNN_param,cv=3,return_train_score=True)\n",
        "KNN_clf.fit(X, Y)\n",
        "result_KNN = KNN_clf.cv_results_\n",
        "for i in result_KNN:\n",
        "  print(str(i)+\" \"+str(result_KNN[i]))"
      ],
      "execution_count": 0,
      "outputs": [
        {
          "output_type": "stream",
          "text": [
            "mean_fit_time [0.01424956]\n",
            "std_fit_time [0.00093238]\n",
            "mean_score_time [0.00101606]\n",
            "std_score_time [3.72809887e-05]\n",
            "params [{}]\n",
            "split0_test_score [0.85338346]\n",
            "split1_test_score [0.91698113]\n",
            "split2_test_score [0.91984733]\n",
            "mean_test_score [0.89659521]\n",
            "std_test_score [0.03072215]\n",
            "rank_test_score [1]\n",
            "split0_train_score [0.89373814]\n",
            "split1_train_score [0.91477273]\n",
            "split2_train_score [0.93032015]\n",
            "mean_train_score [0.91294367]\n",
            "std_train_score [0.01499044]\n",
            "---------------------------------------------------\n",
            "mean_fit_time [0.01640447 0.06871732 0.14318705 0.26755889]\n",
            "std_fit_time [0.00150956 0.00168126 0.00649768 0.00577833]\n",
            "mean_score_time [0.00176922 0.00447663 0.00813325 0.01444157]\n",
            "std_score_time [1.77418598e-05 6.33734144e-05 4.54865674e-04 1.77451595e-04]\n",
            "param_n_estimators [10 50 100 200]\n",
            "params [{'n_estimators': 10}, {'n_estimators': 50}, {'n_estimators': 100}, {'n_estimators': 200}]\n",
            "split0_test_score [1. 1. 1. 1.]\n",
            "split1_test_score [0.99622642 1.         1.         1.        ]\n",
            "split2_test_score [1. 1. 1. 1.]\n",
            "mean_test_score [0.99873897 1.         1.         1.        ]\n",
            "std_test_score [0.00178 0.      0.      0.     ]\n",
            "rank_test_score [4 1 1 1]\n",
            "split0_train_score [1. 1. 1. 1.]\n",
            "split1_train_score [1. 1. 1. 1.]\n",
            "split2_train_score [1. 1. 1. 1.]\n",
            "mean_train_score [1. 1. 1. 1.]\n",
            "std_train_score [0. 0. 0. 0.]\n",
            "---------------------------------------------------\n",
            "mean_fit_time [0.00205414 0.00191053 0.00188843 0.00193914 0.00204802 0.00202012]\n",
            "std_fit_time [1.86346181e-04 4.26150933e-05 5.60327059e-05 1.56757068e-05\n",
            " 4.87226319e-05 1.04687206e-05]\n",
            "mean_score_time [0.00180467 0.001724   0.00181309 0.00224431 0.00204118 0.00204452]\n",
            "std_score_time [1.04036196e-04 7.73544907e-06 3.75736049e-05 5.07316654e-04\n",
            " 2.41469362e-05 6.32408246e-05]\n",
            "param_n_neighbors [1 2 3 4 5 7]\n",
            "params [{'n_neighbors': 1}, {'n_neighbors': 2}, {'n_neighbors': 3}, {'n_neighbors': 4}, {'n_neighbors': 5}, {'n_neighbors': 7}]\n",
            "split0_test_score [0.89097744 0.87969925 0.90601504 0.89849624 0.90977444 0.91729323]\n",
            "split1_test_score [0.86792453 0.86037736 0.87924528 0.86792453 0.89056604 0.87924528]\n",
            "split2_test_score [0.88931298 0.87022901 0.90458015 0.87022901 0.90076336 0.90076336]\n",
            "mean_test_score [0.88272383 0.87011349 0.89659521 0.87894073 0.90037831 0.89911728]\n",
            "std_test_score [0.01050646 0.00790592 0.0123054  0.01392499 0.00786372 0.01561011]\n",
            "rank_test_score [4 6 3 5 1 2]\n",
            "split0_train_score [1.         0.94117647 0.9316888  0.92030361 0.91461101 0.91081594]\n",
            "split1_train_score [1.         0.94886364 0.94507576 0.9280303  0.9375     0.92992424]\n",
            "split2_train_score [1.         0.94350282 0.94538606 0.93220339 0.92843691 0.92090395]\n",
            "mean_train_score [1.         0.94451431 0.94071688 0.92684577 0.92684931 0.92054805]\n",
            "std_train_score [0.         0.00321874 0.00638507 0.00492974 0.00941158 0.00780499]\n"
          ],
          "name": "stdout"
        }
      ]
    },
    {
      "metadata": {
        "id": "rGOX6vmkSiRu",
        "colab_type": "code",
        "outputId": "f2dc9957-c90b-4468-fae0-85225fe6d560",
        "colab": {
          "base_uri": "https://localhost:8080/",
          "height": 920
        }
      },
      "cell_type": "code",
      "source": [
        "# Classifier for info_with_pred\n",
        "from sklearn.linear_model import LogisticRegression\n",
        "from sklearn.ensemble import RandomForestClassifier\n",
        "from sklearn.neighbors import KNeighborsClassifier\n",
        "from sklearn.model_selection import GridSearchCV\n",
        "X = pd.get_dummies(info_with_pred.drop(['Breed Name','Longevity(yrs)'],axis=1))\n",
        "Y = info_with_pred['Breed Name']\n",
        "\n",
        "LogReg = LogisticRegression()\n",
        "LogReg_param = {}\n",
        "LogReg_clf = GridSearchCV(LogReg, LogReg_param,cv=3,return_train_score=True)\n",
        "LogReg_clf.fit(X, Y)\n",
        "result_LogReg = LogReg_clf.cv_results_\n",
        "for i in result_LogReg:\n",
        "  print(str(i)+\" \"+str(result_LogReg[i]))\n",
        "  \n",
        "print(\"---------------------------------------------------\")\n",
        "RandomForest = RandomForestClassifier()\n",
        "RandomForest_param = {'n_estimators':[10,50,100,200]}\n",
        "RandomForest_clf = GridSearchCV(RandomForest, RandomForest_param,cv=3,return_train_score=True)\n",
        "RandomForest_clf.fit(X, Y)\n",
        "result_RandomForest = RandomForest_clf.cv_results_\n",
        "for i in result_RandomForest:\n",
        "  print(str(i)+\" \"+str(result_RandomForest[i]))\n",
        "  \n",
        "print(\"---------------------------------------------------\")\n",
        "KNN = KNeighborsClassifier()\n",
        "KNN_param = {'n_neighbors':[1,2,3,4,5,7]}\n",
        "KNN_clf = GridSearchCV(KNN, KNN_param,cv=3,return_train_score=True)\n",
        "KNN_clf.fit(X, Y)\n",
        "result_KNN = KNN_clf.cv_results_\n",
        "for i in result_KNN:\n",
        "  print(str(i)+\" \"+str(result_KNN[i]))"
      ],
      "execution_count": 0,
      "outputs": [
        {
          "output_type": "stream",
          "text": [
            "mean_fit_time [0.01734821]\n",
            "std_fit_time [0.00129865]\n",
            "mean_score_time [0.00094922]\n",
            "std_score_time [4.21024679e-05]\n",
            "params [{}]\n",
            "split0_test_score [0.88656716]\n",
            "split1_test_score [0.86186186]\n",
            "split2_test_score [0.90361446]\n",
            "mean_test_score [0.884]\n",
            "std_test_score [0.01712132]\n",
            "rank_test_score [1]\n",
            "split0_train_score [0.88421053]\n",
            "split1_train_score [0.89805097]\n",
            "split2_train_score [0.88922156]\n",
            "mean_train_score [0.89049435]\n",
            "std_train_score [0.00572157]\n",
            "---------------------------------------------------\n",
            "mean_fit_time [0.0160687  0.07243578 0.13945031 0.27319066]\n",
            "std_fit_time [0.00025222 0.00083976 0.0011544  0.00034164]\n",
            "mean_score_time [0.00186698 0.00495227 0.00870434 0.01545755]\n",
            "std_score_time [9.11508316e-05 3.16570099e-04 4.49957505e-04 5.04762157e-06]\n",
            "param_n_estimators [10 50 100 200]\n",
            "params [{'n_estimators': 10}, {'n_estimators': 50}, {'n_estimators': 100}, {'n_estimators': 200}]\n",
            "split0_test_score [0.99701493 0.99701493 1.         1.        ]\n",
            "split1_test_score [0.996997 1.       1.       1.      ]\n",
            "split2_test_score [0.99698795 1.         1.         1.        ]\n",
            "mean_test_score [0.997 0.999 1.    1.   ]\n",
            "std_test_score [1.12170691e-05 1.40892676e-03 0.00000000e+00 0.00000000e+00]\n",
            "rank_test_score [4 3 1 1]\n",
            "split0_train_score [1. 1. 1. 1.]\n",
            "split1_train_score [1. 1. 1. 1.]\n",
            "split2_train_score [1. 1. 1. 1.]\n",
            "mean_train_score [1. 1. 1. 1.]\n",
            "std_train_score [0. 0. 0. 0.]\n",
            "---------------------------------------------------\n",
            "mean_fit_time [0.00200081 0.00186308 0.00215395 0.00188843 0.00190862 0.00191704]\n",
            "std_fit_time [2.31195059e-04 2.44339950e-05 3.85402058e-04 2.24504851e-05\n",
            " 2.02467151e-05 3.28927404e-05]\n",
            "mean_score_time [0.00191053 0.00209324 0.00196815 0.00202243 0.00203864 0.00215387]\n",
            "std_score_time [8.79861111e-05 2.30604331e-04 1.55989656e-05 7.37771859e-06\n",
            " 4.86799648e-06 6.73506112e-06]\n",
            "param_n_neighbors [1 2 3 4 5 7]\n",
            "params [{'n_neighbors': 1}, {'n_neighbors': 2}, {'n_neighbors': 3}, {'n_neighbors': 4}, {'n_neighbors': 5}, {'n_neighbors': 7}]\n",
            "split0_test_score [0.88955224 0.85970149 0.89552239 0.89253731 0.90746269 0.91044776]\n",
            "split1_test_score [0.89489489 0.88288288 0.92192192 0.9009009  0.90990991 0.90990991]\n",
            "split2_test_score [0.88554217 0.87650602 0.88855422 0.88855422 0.89759036 0.89759036]\n",
            "mean_test_score [0.89  0.873 0.902 0.894 0.905 0.906]\n",
            "std_test_score [0.00382667 0.00979032 0.01436107 0.00514013 0.00531856 0.00593275]\n",
            "rank_test_score [5 6 3 4 2 1]\n",
            "split0_train_score [1.         0.94887218 0.93533835 0.93082707 0.92781955 0.92631579]\n",
            "split1_train_score [1.         0.94002999 0.92953523 0.92053973 0.92503748 0.91904048]\n",
            "split2_train_score [1.         0.95209581 0.94760479 0.93562874 0.93413174 0.92964072]\n",
            "mean_train_score [1.         0.94699932 0.93749279 0.92899851 0.92899626 0.924999  ]\n",
            "std_train_score [0.         0.00510077 0.00753253 0.0062943  0.00380481 0.00442657]\n"
          ],
          "name": "stdout"
        }
      ]
    },
    {
      "metadata": {
        "id": "yx14o3YrVguO",
        "colab_type": "code",
        "outputId": "47b902c1-0639-4c18-d695-4da296f0c894",
        "colab": {
          "base_uri": "https://localhost:8080/",
          "height": 920
        }
      },
      "cell_type": "code",
      "source": [
        "# Classifier for info_without_Heights\n",
        "from sklearn.linear_model import LogisticRegression\n",
        "from sklearn.ensemble import RandomForestClassifier\n",
        "from sklearn.neighbors import KNeighborsClassifier\n",
        "from sklearn.model_selection import GridSearchCV\n",
        "X = pd.get_dummies(info_without_Heights.drop(['Breed Name','Longevity(yrs)'],axis=1))\n",
        "Y = info_without_Heights['Breed Name']\n",
        "\n",
        "LogReg = LogisticRegression()\n",
        "LogReg_param = {}\n",
        "LogReg_clf = GridSearchCV(LogReg, LogReg_param,cv=3,return_train_score=True)\n",
        "LogReg_clf.fit(X, Y)\n",
        "result_LogReg = LogReg_clf.cv_results_\n",
        "for i in result_LogReg:\n",
        "  print(str(i)+\" \"+str(result_LogReg[i]))\n",
        "  \n",
        "print(\"---------------------------------------------------\")\n",
        "RandomForest = RandomForestClassifier()\n",
        "RandomForest_param = {'n_estimators':[10,50,100,200]}\n",
        "RandomForest_clf = GridSearchCV(RandomForest, RandomForest_param,cv=3,return_train_score=True)\n",
        "RandomForest_clf.fit(X, Y)\n",
        "result_RandomForest = RandomForest_clf.cv_results_\n",
        "for i in result_RandomForest:\n",
        "  print(str(i)+\" \"+str(result_RandomForest[i]))\n",
        "  \n",
        "print(\"---------------------------------------------------\")\n",
        "KNN = KNeighborsClassifier()\n",
        "KNN_param = {'n_neighbors':[1,2,3,4,5,7]}\n",
        "KNN_clf = GridSearchCV(KNN, KNN_param,cv=3,return_train_score=True)\n",
        "KNN_clf.fit(X, Y)\n",
        "result_KNN = KNN_clf.cv_results_\n",
        "for i in result_KNN:\n",
        "  print(str(i)+\" \"+str(result_KNN[i]))"
      ],
      "execution_count": 0,
      "outputs": [
        {
          "output_type": "stream",
          "text": [
            "mean_fit_time [0.00370288]\n",
            "std_fit_time [0.0003866]\n",
            "mean_score_time [0.00053016]\n",
            "std_score_time [6.07867118e-05]\n",
            "params [{}]\n",
            "split0_test_score [0.74285714]\n",
            "split1_test_score [0.75362319]\n",
            "split2_test_score [0.85294118]\n",
            "mean_test_score [0.7826087]\n",
            "std_test_score [0.04939033]\n",
            "rank_test_score [1]\n",
            "split0_train_score [0.76642336]\n",
            "split1_train_score [0.74637681]\n",
            "split2_train_score [0.87769784]\n",
            "mean_train_score [0.79683267]\n",
            "std_train_score [0.05776301]\n",
            "---------------------------------------------------\n",
            "mean_fit_time [0.01372433 0.06076423 0.11643418 0.2322681 ]\n",
            "std_fit_time [0.00043045 0.00211443 0.00035494 0.002962  ]\n",
            "mean_score_time [0.00141207 0.00345262 0.00594378 0.01139021]\n",
            "std_score_time [4.21658759e-05 4.02234747e-05 2.76818927e-05 5.33615118e-04]\n",
            "param_n_estimators [10 50 100 200]\n",
            "params [{'n_estimators': 10}, {'n_estimators': 50}, {'n_estimators': 100}, {'n_estimators': 200}]\n",
            "split0_test_score [0.92857143 0.92857143 0.97142857 0.95714286]\n",
            "split1_test_score [0.92753623 0.92753623 0.92753623 0.92753623]\n",
            "split2_test_score [0.91176471 0.89705882 0.91176471 0.89705882]\n",
            "mean_test_score [0.92270531 0.9178744  0.93719807 0.92753623]\n",
            "std_test_score [0.00766398 0.01456531 0.0252952  0.02452663]\n",
            "rank_test_score [3 4 1 2]\n",
            "split0_train_score [0.97810219 1.         1.         1.        ]\n",
            "split1_train_score [0.99275362 1.         1.         1.        ]\n",
            "split2_train_score [1. 1. 1. 1.]\n",
            "mean_train_score [0.99028527 1.         1.         1.        ]\n",
            "std_train_score [0.00910853 0.         0.         0.        ]\n",
            "---------------------------------------------------\n",
            "mean_fit_time [0.00161266 0.00118947 0.00118748 0.00117008 0.00118049 0.00117024]\n",
            "std_fit_time [5.27308706e-04 8.46973403e-06 2.85335237e-05 1.41831782e-05\n",
            " 8.35108131e-06 7.92739286e-06]\n",
            "mean_score_time [0.00106661 0.00089224 0.00086999 0.00088096 0.00089113 0.0009106 ]\n",
            "std_score_time [2.87832837e-04 1.58547857e-06 1.52898016e-05 1.65605117e-05\n",
            " 1.20148666e-05 2.28130024e-06]\n",
            "param_n_neighbors [1 2 3 4 5 7]\n",
            "params [{'n_neighbors': 1}, {'n_neighbors': 2}, {'n_neighbors': 3}, {'n_neighbors': 4}, {'n_neighbors': 5}, {'n_neighbors': 7}]\n",
            "split0_test_score [0.88571429 0.87142857 0.88571429 0.88571429 0.88571429 0.87142857]\n",
            "split1_test_score [0.89855072 0.89855072 0.89855072 0.88405797 0.91304348 0.92753623]\n",
            "split2_test_score [0.88235294 0.91176471 0.92647059 0.94117647 0.91176471 0.91176471]\n",
            "mean_test_score [0.88888889 0.89371981 0.90338164 0.90338164 0.90338164 0.90338164]\n",
            "std_test_score [0.00696837 0.01681604 0.01698402 0.02644372 0.01263946 0.02372409]\n",
            "rank_test_score [6 5 1 1 1 1]\n",
            "split0_train_score [1.         0.94160584 0.94160584 0.94160584 0.94160584 0.93430657]\n",
            "split1_train_score [1.         0.92028986 0.9057971  0.92028986 0.91304348 0.91304348]\n",
            "split2_train_score [1.         0.9352518  0.92805755 0.92086331 0.91366906 0.91366906]\n",
            "mean_train_score [1.         0.9323825  0.9251535  0.92758633 0.92277279 0.9203397 ]\n",
            "std_train_score [0.         0.0089356  0.01476238 0.00991605 0.01331942 0.00987937]\n"
          ],
          "name": "stdout"
        }
      ]
    },
    {
      "metadata": {
        "id": "WMgXao2LV4MC",
        "colab_type": "text"
      },
      "cell_type": "markdown",
      "source": [
        "Both the dataset in which we predicted the missing heights and the ones in which we deleted the incomplete rows got very high scores, close 100% accuracy. The ones without heights got worse results. This experiment would indicate that height is an important feature, but at the same time, even with exemple elimination, there are more than enough data.\n",
        "\n",
        "Results obtained:\n",
        "\n",
        "Logical Regression:\n",
        "\n",
        "  info_without_nulls: 0.98991173\n",
        "  \n",
        "  info_without_heights: 0.96135266\n",
        "  \n",
        "  info_with_preds: 0.99\n",
        "  \n",
        "  Random Forest:\n",
        "\n",
        "  info_without_nulls: 1.\n",
        "  \n",
        "  info_without_heights: 0.95652174\n",
        "  \n",
        "  info_with_preds:  1.\n",
        "  \n",
        "  KNN:\n",
        "\n",
        "  info_without_nulls: 0.90037831\n",
        "  \n",
        "  info_without_heights: 0.90338164\n",
        "  \n",
        "  info_with_preds: 0.906\n",
        "  \n",
        "\n",
        "The Results indicate Random Forest as the best model for the given task, folosed clossely by Logical Regression. The very good results can be explained by the fact that only having height and weight, the classes are liniary separable.\n"
      ]
    },
    {
      "metadata": {
        "id": "GV6e6F21aSy6",
        "colab_type": "code",
        "outputId": "5abd42f0-204f-4b67-d8a2-e81c2bd9ea37",
        "colab": {
          "base_uri": "https://localhost:8080/",
          "height": 619
        }
      },
      "cell_type": "code",
      "source": [
        "# Regression for info_without_Heights\n",
        "from sklearn.linear_model import LinearRegression\n",
        "from sklearn.linear_model import LogisticRegression\n",
        "from sklearn.ensemble import RandomForestClassifier\n",
        "from sklearn.neighbors import KNeighborsClassifier\n",
        "from sklearn.neighbors import KNeighborsRegressor\n",
        "from sklearn.model_selection import GridSearchCV\n",
        "X = pd.get_dummies(info_without_Heights.drop(['Breed Name','Longevity(yrs)'],axis=1))\n",
        "Y = info_without_Heights['Longevity(yrs)']\n",
        "\n",
        "LinReg = LinearRegression()\n",
        "LinReg_param = {}\n",
        "LinReg_clf = GridSearchCV(LinReg, LinReg_param,cv=3,return_train_score=True)\n",
        "LinReg_clf.fit(X, Y)\n",
        "result_LinReg = LinReg_clf.cv_results_\n",
        "for i in result_LinReg:\n",
        "  print(str(i)+\" \"+str(result_LinReg[i]))\n",
        "   \n",
        "print(\"---------------------------------------------------\")\n",
        "KNN = KNeighborsRegressor()\n",
        "KNN_param = {'n_neighbors':[1,2,3,4,5,7]}\n",
        "KNN_clf = GridSearchCV(KNN, KNN_param,cv=3,return_train_score=True)\n",
        "KNN_clf.fit(X, Y)\n",
        "result_KNN = KNN_clf.cv_results_\n",
        "for i in result_KNN:\n",
        "  print(str(i)+\" \"+str(result_KNN[i]))"
      ],
      "execution_count": 0,
      "outputs": [
        {
          "output_type": "stream",
          "text": [
            "mean_fit_time [0.00178401]\n",
            "std_fit_time [0.00029428]\n",
            "mean_score_time [0.00048407]\n",
            "std_score_time [2.49997415e-05]\n",
            "params [{}]\n",
            "split0_test_score [0.71993667]\n",
            "split1_test_score [0.76843759]\n",
            "split2_test_score [0.71583783]\n",
            "mean_test_score [0.73473736]\n",
            "std_test_score [0.02388834]\n",
            "rank_test_score [1]\n",
            "split0_train_score [0.77029212]\n",
            "split1_train_score [0.74565205]\n",
            "split2_train_score [0.77319936]\n",
            "mean_train_score [0.76304784]\n",
            "std_train_score [0.01235781]\n",
            "---------------------------------------------------\n",
            "mean_fit_time [0.00212463 0.0011193  0.00106589 0.00112486 0.0010767  0.00111175]\n",
            "std_fit_time [5.14675210e-04 3.05798098e-05 1.10692885e-06 3.30000942e-05\n",
            " 1.11131364e-05 5.16948808e-05]\n",
            "mean_score_time [0.00132163 0.00077144 0.00077907 0.00081078 0.00077868 0.00097164]\n",
            "std_score_time [8.80158244e-05 7.60534921e-06 2.50035308e-05 3.17149489e-05\n",
            " 1.79812504e-05 2.07803399e-04]\n",
            "param_n_neighbors [1 2 3 4 5 7]\n",
            "params [{'n_neighbors': 1}, {'n_neighbors': 2}, {'n_neighbors': 3}, {'n_neighbors': 4}, {'n_neighbors': 5}, {'n_neighbors': 7}]\n",
            "split0_test_score [0.73388797 0.79673666 0.81408994 0.81178619 0.82159352 0.81956318]\n",
            "split1_test_score [0.76297147 0.80185232 0.81375607 0.83518997 0.83778502 0.85393733]\n",
            "split2_test_score [0.72889601 0.84358999 0.86022762 0.84850501 0.8460937  0.84424158]\n",
            "mean_test_score [0.74191848 0.81405966 0.82935788 0.83182706 0.83515742 0.83924736]\n",
            "std_test_score [0.01502556 0.02098528 0.02182863 0.01517783 0.01017326 0.01447071]\n",
            "rank_test_score [6 5 4 3 2 1]\n",
            "split0_train_score [1.         0.94596658 0.91629834 0.89945597 0.88769107 0.88026557]\n",
            "split1_train_score [1.         0.92748412 0.90176113 0.88037429 0.86883227 0.86140215]\n",
            "split2_train_score [1.         0.93517558 0.89410918 0.87692074 0.86808212 0.86563072]\n",
            "mean_train_score [1.         0.93620876 0.90405621 0.88558367 0.87486849 0.86909948]\n",
            "std_train_score [0.         0.00758072 0.00920291 0.00991    0.0090721  0.00808214]\n"
          ],
          "name": "stdout"
        }
      ]
    },
    {
      "metadata": {
        "id": "9TYqtjsAeOuW",
        "colab_type": "code",
        "outputId": "ff9cb2a8-ac12-445c-db56-fc7e0a0ebcf4",
        "colab": {
          "base_uri": "https://localhost:8080/",
          "height": 619
        }
      },
      "cell_type": "code",
      "source": [
        "# Regression for info_without_Heights\n",
        "from sklearn.linear_model import LinearRegression\n",
        "from sklearn.linear_model import LogisticRegression\n",
        "from sklearn.ensemble import RandomForestClassifier\n",
        "from sklearn.neighbors import KNeighborsClassifier\n",
        "from sklearn.neighbors import KNeighborsRegressor\n",
        "from sklearn.model_selection import GridSearchCV\n",
        "X = pd.get_dummies(info_with_pred.drop(['Breed Name','Longevity(yrs)'],axis=1))\n",
        "Y = info_with_pred['Longevity(yrs)']\n",
        "\n",
        "LinReg = LinearRegression()\n",
        "LinReg_param = {}\n",
        "LinReg_clf = GridSearchCV(LinReg, LinReg_param,cv=3,return_train_score=True)\n",
        "LinReg_clf.fit(X, Y)\n",
        "result_LinReg = LinReg_clf.cv_results_\n",
        "for i in result_LinReg:\n",
        "  print(str(i)+\" \"+str(result_LinReg[i]))\n",
        "   \n",
        "print(\"---------------------------------------------------\")\n",
        "KNN = KNeighborsRegressor()\n",
        "KNN_param = {'n_neighbors':[1,2,3,4,5,7]}\n",
        "KNN_clf = GridSearchCV(KNN, KNN_param,cv=3,return_train_score=True)\n",
        "KNN_clf.fit(X, Y)\n",
        "result_KNN = KNN_clf.cv_results_\n",
        "for i in result_KNN:\n",
        "  print(str(i)+\" \"+str(result_KNN[i]))"
      ],
      "execution_count": 0,
      "outputs": [
        {
          "output_type": "stream",
          "text": [
            "mean_fit_time [0.00232251]\n",
            "std_fit_time [0.00037381]\n",
            "mean_score_time [0.00062935]\n",
            "std_score_time [0.0001032]\n",
            "params [{}]\n",
            "split0_test_score [0.73559325]\n",
            "split1_test_score [0.73950814]\n",
            "split2_test_score [0.69497999]\n",
            "mean_test_score [0.72337269]\n",
            "std_test_score [0.02012521]\n",
            "rank_test_score [1]\n",
            "split0_train_score [0.72762484]\n",
            "split1_train_score [0.72812724]\n",
            "split2_train_score [0.74569349]\n",
            "mean_train_score [0.73381519]\n",
            "std_train_score [0.00840173]\n",
            "---------------------------------------------------\n",
            "mean_fit_time [0.00162379 0.00147017 0.00147994 0.00149536 0.00158509 0.00158374]\n",
            "std_fit_time [1.52117323e-04 1.20667964e-05 6.91642212e-06 1.62264819e-05\n",
            " 3.18008640e-05 1.88439519e-05]\n",
            "mean_score_time [0.00171645 0.00165836 0.00171582 0.00180721 0.00185386 0.0018936 ]\n",
            "std_score_time [1.12356524e-04 1.13948673e-05 4.04161492e-05 6.92024728e-05\n",
            " 2.08443237e-05 2.90546949e-05]\n",
            "param_n_neighbors [1 2 3 4 5 7]\n",
            "params [{'n_neighbors': 1}, {'n_neighbors': 2}, {'n_neighbors': 3}, {'n_neighbors': 4}, {'n_neighbors': 5}, {'n_neighbors': 7}]\n",
            "split0_test_score [0.74052197 0.78839925 0.80037188 0.81418605 0.82370085 0.83864495]\n",
            "split1_test_score [0.72919388 0.77719615 0.80777953 0.81819913 0.82038517 0.8306416 ]\n",
            "split2_test_score [0.65836377 0.73792607 0.7805837  0.78000836 0.79321885 0.79995908]\n",
            "mean_test_score [0.70939103 0.76786105 0.79624916 0.80414124 0.81244622 0.82309744]\n",
            "std_test_score [0.0363502  0.02164043 0.01147473 0.01713028 0.01365291 0.01667247]\n",
            "rank_test_score [6 5 4 3 2 1]\n",
            "split0_train_score [1.         0.91821758 0.89142527 0.87695147 0.8738714  0.86670112]\n",
            "split1_train_score [1.         0.92023662 0.89564193 0.87628402 0.8690451  0.85994999]\n",
            "split2_train_score [1.         0.93355087 0.90744091 0.89450637 0.88678524 0.87662526]\n",
            "mean_train_score [1.         0.92400169 0.89816937 0.88258062 0.87656725 0.86775879]\n",
            "std_train_score [0.         0.00680241 0.00677821 0.00843718 0.00748905 0.00684861]\n"
          ],
          "name": "stdout"
        }
      ]
    },
    {
      "metadata": {
        "id": "IPZ6EdysePWC",
        "colab_type": "code",
        "outputId": "bbffe529-572d-42d1-c1a9-34d9a0a72a70",
        "colab": {
          "base_uri": "https://localhost:8080/",
          "height": 619
        }
      },
      "cell_type": "code",
      "source": [
        "# Regression for info_without_Heights\n",
        "from sklearn.linear_model import LinearRegression\n",
        "from sklearn.linear_model import LogisticRegression\n",
        "from sklearn.ensemble import RandomForestClassifier\n",
        "from sklearn.neighbors import KNeighborsClassifier\n",
        "from sklearn.neighbors import KNeighborsRegressor\n",
        "from sklearn.model_selection import GridSearchCV\n",
        "X = pd.get_dummies(info_without_nulls.drop(['Breed Name','Longevity(yrs)'],axis=1))\n",
        "Y = info_without_nulls['Longevity(yrs)']\n",
        "\n",
        "LinReg = LinearRegression()\n",
        "LinReg_param = {}\n",
        "LinReg_clf = GridSearchCV(LinReg, LinReg_param,cv=3,return_train_score=True)\n",
        "LinReg_clf.fit(X, Y)\n",
        "result_LinReg = LinReg_clf.cv_results_\n",
        "for i in result_LinReg:\n",
        "  print(str(i)+\" \"+str(result_LinReg[i]))\n",
        "   \n",
        "print(\"---------------------------------------------------\")\n",
        "KNN = KNeighborsRegressor()\n",
        "KNN_param = {'n_neighbors':[1,2,3,4,5,7]}\n",
        "KNN_clf = GridSearchCV(KNN, KNN_param,cv=3,return_train_score=True)\n",
        "KNN_clf.fit(X, Y)\n",
        "result_KNN = KNN_clf.cv_results_\n",
        "for i in result_KNN:\n",
        "  print(str(i)+\" \"+str(result_KNN[i]))"
      ],
      "execution_count": 0,
      "outputs": [
        {
          "output_type": "stream",
          "text": [
            "mean_fit_time [0.00195042]\n",
            "std_fit_time [0.00032079]\n",
            "mean_score_time [0.00051363]\n",
            "std_score_time [5.38827161e-05]\n",
            "params [{}]\n",
            "split0_test_score [0.71757922]\n",
            "split1_test_score [0.75541456]\n",
            "split2_test_score [0.69809231]\n",
            "mean_test_score [0.72368765]\n",
            "std_test_score [0.02378396]\n",
            "rank_test_score [1]\n",
            "split0_train_score [0.73477188]\n",
            "split1_train_score [0.7164102]\n",
            "split2_train_score [0.74151767]\n",
            "mean_train_score [0.73089991]\n",
            "std_train_score [0.01060944]\n",
            "---------------------------------------------------\n",
            "mean_fit_time [0.00134635 0.00131734 0.00126266 0.00127101 0.0013721  0.0013059 ]\n",
            "std_fit_time [5.74415624e-05 6.01036588e-05 2.06127535e-05 1.32015879e-05\n",
            " 5.33983106e-05 6.86386988e-05]\n",
            "mean_score_time [0.00137719 0.0013632  0.00156848 0.001448   0.00158548 0.00147525]\n",
            "std_score_time [5.37429301e-05 4.39765782e-06 2.60419914e-04 4.70534367e-05\n",
            " 1.84033920e-04 1.78780376e-05]\n",
            "param_n_neighbors [1 2 3 4 5 7]\n",
            "params [{'n_neighbors': 1}, {'n_neighbors': 2}, {'n_neighbors': 3}, {'n_neighbors': 4}, {'n_neighbors': 5}, {'n_neighbors': 7}]\n",
            "split0_test_score [0.73420467 0.78348896 0.81666504 0.82653628 0.83241062 0.84354354]\n",
            "split1_test_score [0.69101238 0.75995484 0.78149551 0.80109925 0.81568423 0.82658378]\n",
            "split2_test_score [0.6509172  0.73828407 0.76086009 0.76630345 0.78240706 0.78645104]\n",
            "mean_test_score [0.69209791 0.76060485 0.78637845 0.79801567 0.81019535 0.81889058]\n",
            "std_test_score [0.03402127 0.01846631 0.023049   0.02469393 0.02078516 0.02394027]\n",
            "rank_test_score [6 5 4 3 2 1]\n",
            "split0_train_score [1.         0.91210844 0.8865449  0.86789545 0.865405   0.8559115 ]\n",
            "split1_train_score [1.         0.92413543 0.89201606 0.87804161 0.86962101 0.86131224]\n",
            "split2_train_score [1.         0.92226279 0.89971539 0.8882059  0.88028692 0.87423429]\n",
            "mean_train_score [1.         0.91950222 0.89275878 0.87804765 0.87177098 0.86381934]\n",
            "std_train_score [0.         0.00528379 0.00540242 0.00829171 0.00626283 0.00768745]\n"
          ],
          "name": "stdout"
        }
      ]
    },
    {
      "metadata": {
        "id": "DLyYfVLDeqlX",
        "colab_type": "text"
      },
      "cell_type": "markdown",
      "source": [
        "Results obtained for the 2 approaches and 3 data subsets :\n",
        "\n",
        "Liniar Regression:\n",
        "\n",
        "  info_without_nulls: 0.72368765\n",
        "  \n",
        "  info_without_heights: 0.73473736\n",
        "  \n",
        "  info_with_preds: 0.72337269\n",
        "   \n",
        " KNN:\n",
        "\n",
        "  info_without_nulls: 0.81889058\n",
        "  \n",
        "  info_without_heights:0.83924736\n",
        "  \n",
        "  info_with_preds: 0.82309744\n",
        "  \n",
        "  In the case of predicting Longetivity, there wasn't such a big difference between the three subsets.\n",
        "  "
      ]
    },
    {
      "metadata": {
        "id": "jyOts5L5vgJE",
        "colab_type": "code",
        "colab": {}
      },
      "cell_type": "code",
      "source": [
        ""
      ],
      "execution_count": 0,
      "outputs": []
    }
  ]
}